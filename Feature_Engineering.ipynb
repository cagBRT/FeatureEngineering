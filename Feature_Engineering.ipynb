{
  "nbformat": 4,
  "nbformat_minor": 0,
  "metadata": {
    "colab": {
      "name": "Feature Engineering.ipynb",
      "provenance": [],
      "private_outputs": true,
      "authorship_tag": "ABX9TyOM4tM7iEePdF3ZQKk3EShh",
      "include_colab_link": true
    },
    "kernelspec": {
      "name": "python3",
      "display_name": "Python 3"
    },
    "accelerator": "GPU"
  },
  "cells": [
    {
      "cell_type": "markdown",
      "metadata": {
        "id": "view-in-github",
        "colab_type": "text"
      },
      "source": [
        "<a href=\"https://colab.research.google.com/github/cagBRT/FeatureEngineering/blob/master/Feature_Engineering.ipynb\" target=\"_parent\"><img src=\"https://colab.research.google.com/assets/colab-badge.svg\" alt=\"Open In Colab\"/></a>"
      ]
    },
    {
      "cell_type": "markdown",
      "metadata": {
        "id": "fymCvydgpk3p",
        "colab_type": "text"
      },
      "source": [
        "https://towardsdatascience.com/feature-engineering-for-machine-learning-3a5e293a5114\n"
      ]
    },
    {
      "cell_type": "code",
      "metadata": {
        "id": "WSnfJ2MPpDKM",
        "colab_type": "code",
        "colab": {}
      },
      "source": [
        "import pandas as pd\n",
        "import numpy as np\n",
        "import seaborn as sns\n",
        "import matplotlib.pyplot as plt\n",
        "from scipy import stats"
      ],
      "execution_count": 0,
      "outputs": []
    },
    {
      "cell_type": "code",
      "metadata": {
        "id": "rw-ghvFkS32y",
        "colab_type": "code",
        "colab": {}
      },
      "source": [
        "from google.colab import drive\n",
        "drive.mount('/gdrive')"
      ],
      "execution_count": 0,
      "outputs": []
    },
    {
      "cell_type": "code",
      "metadata": {
        "id": "ga2fKWPfTOgc",
        "colab_type": "code",
        "colab": {}
      },
      "source": [
        "sf_data = pd.read_csv(\"/gdrive/My Drive/Building_Permits.csv\")"
      ],
      "execution_count": 0,
      "outputs": []
    },
    {
      "cell_type": "markdown",
      "metadata": {
        "id": "-wYy8lNc0P5E",
        "colab_type": "text"
      },
      "source": [
        "# **Know Your Data**"
      ]
    },
    {
      "cell_type": "code",
      "metadata": {
        "id": "SANwyTpLZB_u",
        "colab_type": "code",
        "colab": {}
      },
      "source": [
        "sf_data.shape"
      ],
      "execution_count": 0,
      "outputs": []
    },
    {
      "cell_type": "code",
      "metadata": {
        "id": "K_ASQWDaVIsi",
        "colab_type": "code",
        "colab": {}
      },
      "source": [
        "sf_data.count()"
      ],
      "execution_count": 0,
      "outputs": []
    },
    {
      "cell_type": "code",
      "metadata": {
        "id": "bsxVj7gAcjrU",
        "colab_type": "code",
        "colab": {}
      },
      "source": [
        "sf_data.columns"
      ],
      "execution_count": 0,
      "outputs": []
    },
    {
      "cell_type": "code",
      "metadata": {
        "id": "XNy45Qc8dQl8",
        "colab_type": "code",
        "colab": {}
      },
      "source": [
        "sf_data_stats = sf_data.describe()\n",
        "sf_data_stats"
      ],
      "execution_count": 0,
      "outputs": []
    },
    {
      "cell_type": "code",
      "metadata": {
        "id": "krTHKB17cWNf",
        "colab_type": "code",
        "colab": {}
      },
      "source": [
        "sns.pairplot(sf_data[[\"Permit Type\", \"Unit\", \"Number of Existing Stories\", \"Number of Proposed Stories\",\"Estimated Cost\"]], diag_kind=\"kde\")\n",
        "plt.show()\n"
      ],
      "execution_count": 0,
      "outputs": []
    },
    {
      "cell_type": "markdown",
      "metadata": {
        "id": "2Jvs39rFd5OT",
        "colab_type": "text"
      },
      "source": [
        "# **Handling Outliers**\n",
        "\n",
        "In statistics, an outlier is an observation point that is distant from other observations."
      ]
    },
    {
      "cell_type": "markdown",
      "metadata": {
        "id": "sWoMK-sa0bWn",
        "colab_type": "text"
      },
      "source": [
        "**Identify Outliers**"
      ]
    },
    {
      "cell_type": "markdown",
      "metadata": {
        "id": "qeJhm_ri05p6",
        "colab_type": "text"
      },
      "source": [
        "**BoxPlot**"
      ]
    },
    {
      "cell_type": "code",
      "metadata": {
        "id": "6s0OkusHd6FF",
        "colab_type": "code",
        "colab": {}
      },
      "source": [
        "sns.boxplot(x=sf_data['Estimated Cost'])"
      ],
      "execution_count": 0,
      "outputs": []
    },
    {
      "cell_type": "markdown",
      "metadata": {
        "id": "hjnLC68s0uQb",
        "colab_type": "text"
      },
      "source": [
        "**Scatter Plot**"
      ]
    },
    {
      "cell_type": "code",
      "metadata": {
        "id": "jx26M8HZeuSO",
        "colab_type": "code",
        "colab": {}
      },
      "source": [
        "fig, ax = plt.subplots(figsize=(16,8))\n",
        "ax.scatter(data['Permit Type'], data['Proposed Units'])\n",
        "ax.set_xlabel('permit type')\n",
        "ax.set_ylabel('propsed units')\n",
        "plt.show()"
      ],
      "execution_count": 0,
      "outputs": []
    },
    {
      "cell_type": "markdown",
      "metadata": {
        "id": "oPX6CibR03NJ",
        "colab_type": "text"
      },
      "source": [
        "**Z Score**"
      ]
    },
    {
      "cell_type": "markdown",
      "metadata": {
        "id": "wi0_JSzrfbeg",
        "colab_type": "text"
      },
      "source": [
        "Discover outliers with mathematical function\n",
        "Z-Score-<br>\n",
        "The Z-score is the signed number of standard deviations by which the value of an observation or data point is above the mean value of what is being observed or measured.\n",
        "The intuition behind Z-score is to describe any data point by finding their relationship with the Standard Deviation and Mean of the group of data points. Z-score is finding the distribution of data where mean is 0 and standard deviation is 1 i.e. normal distribution.\n",
        "You must be wondering that, how does this help in identifying the outliers? Well, while calculating the Z-score we re-scale and center the data and look for data points which are too far from zero. These data points which are way too far from zero will be treated as the outliers. In most of the cases a threshold of 3 or -3 is used i.e if the Z-score value is greater than or less than 3 or -3 respectively, that data point will be identified as outliers.\n",
        "https://docs.scipy.org/doc/scipy/reference/generated/scipy.stats.zscore.html"
      ]
    },
    {
      "cell_type": "code",
      "metadata": {
        "id": "1ysHPFQy2Y95",
        "colab_type": "code",
        "colab": {}
      },
      "source": [
        "#insert z score image"
      ],
      "execution_count": 0,
      "outputs": []
    },
    {
      "cell_type": "code",
      "metadata": {
        "id": "NqtjQhSBo5S-",
        "colab_type": "code",
        "colab": {}
      },
      "source": [
        "from sklearn.datasets import load_boston\n",
        "X, y = load_boston(return_X_y=True)\n",
        "print(X.shape)\n",
        "\n",
        "boston = load_boston()\n",
        "x = boston.data\n",
        "y = boston.target\n",
        "columns = boston.feature_names\n",
        "#create the dataframe\n",
        "boston_df = pd.DataFrame(boston.data)\n",
        "boston_df.columns = columns\n",
        "boston_df.head()"
      ],
      "execution_count": 0,
      "outputs": []
    },
    {
      "cell_type": "code",
      "metadata": {
        "id": "NCFKcHonfcWE",
        "colab_type": "code",
        "colab": {}
      },
      "source": [
        "z = np.abs(stats.zscore(boston_df))\n",
        "print(z)\n"
      ],
      "execution_count": 0,
      "outputs": []
    },
    {
      "cell_type": "markdown",
      "metadata": {
        "id": "jyjTT9WCpnr3",
        "colab_type": "text"
      },
      "source": [
        "The first array contains the list of row numbers and second array respective column numbers, which mean z[55][1] have a Z-score higher than 3."
      ]
    },
    {
      "cell_type": "code",
      "metadata": {
        "id": "xPOkQO6sfxHG",
        "colab_type": "code",
        "colab": {}
      },
      "source": [
        "threshold = 3\n",
        "print(np.where(z > 3))\n"
      ],
      "execution_count": 0,
      "outputs": []
    },
    {
      "cell_type": "markdown",
      "metadata": {
        "id": "-XY3A-6K2uDL",
        "colab_type": "text"
      },
      "source": [
        "55th record on column ZN is an outlier"
      ]
    },
    {
      "cell_type": "code",
      "metadata": {
        "id": "o7FXMWzUpubg",
        "colab_type": "code",
        "colab": {}
      },
      "source": [
        "print(z[55][1])"
      ],
      "execution_count": 0,
      "outputs": []
    },
    {
      "cell_type": "code",
      "metadata": {
        "id": "G_TadCCPUGds",
        "colab_type": "code",
        "colab": {}
      },
      "source": [
        "data.isna().sum()"
      ],
      "execution_count": 0,
      "outputs": []
    },
    {
      "cell_type": "markdown",
      "metadata": {
        "id": "0HCyrjh921_W",
        "colab_type": "text"
      },
      "source": [
        "**IQR Score**<br>\n",
        "Box plots use the IQR method to display data and outliers(shape of the data) but in order to get a list of identified outliers, we need to use the mathematical formula and retrieve the outlier data."
      ]
    },
    {
      "cell_type": "code",
      "metadata": {
        "id": "HVUkWCJU25Lo",
        "colab_type": "code",
        "colab": {}
      },
      "source": [
        "Q1 = boston_df.quantile(0.25)\n",
        "Q3 = boston_df.quantile(0.75)\n",
        "IQR = Q3 - Q1\n",
        "print(IQR)"
      ],
      "execution_count": 0,
      "outputs": []
    },
    {
      "cell_type": "markdown",
      "metadata": {
        "id": "wWl-s_5I3afm",
        "colab_type": "text"
      },
      "source": [
        "As we now have the IQR scores, it’s time to get hold on outliers. The below code will give an output with some true and false values. The data point where we have False that means these values are valid whereas True indicates presence of an outlier."
      ]
    },
    {
      "cell_type": "code",
      "metadata": {
        "id": "2T1GcyR23bZP",
        "colab_type": "code",
        "colab": {}
      },
      "source": [
        "outliers = (boston_df < (Q1 - 1.5 * IQR)) |(boston_df > (Q3 + 1.5 * IQR))\n",
        "#print(np.where(outliers == True))\n",
        "outliers.describe()"
      ],
      "execution_count": 0,
      "outputs": []
    },
    {
      "cell_type": "markdown",
      "metadata": {
        "id": "hal5CyC148VT",
        "colab_type": "text"
      },
      "source": [
        "# **Handling Outliers**"
      ]
    },
    {
      "cell_type": "markdown",
      "metadata": {
        "id": "dvJGrNtc5IC0",
        "colab_type": "text"
      },
      "source": [
        "**Using the Z Score to Remove Outliers**"
      ]
    },
    {
      "cell_type": "code",
      "metadata": {
        "id": "DTkta-KU5DU6",
        "colab_type": "code",
        "colab": {}
      },
      "source": [
        "print(boston_df.shape)\n",
        "boston_df = boston_df[(z < 3).all(axis=1)]\n",
        "print(boston_df.shape)"
      ],
      "execution_count": 0,
      "outputs": []
    },
    {
      "cell_type": "markdown",
      "metadata": {
        "id": "w8MXSnun6Dug",
        "colab_type": "text"
      },
      "source": [
        "**Using the IQR Score to Remove Outliers**"
      ]
    },
    {
      "cell_type": "code",
      "metadata": {
        "id": "R9rf3eDw6Uxo",
        "colab_type": "code",
        "colab": {}
      },
      "source": [
        "boston = load_boston()\n",
        "boston_df = pd.DataFrame(boston.data)"
      ],
      "execution_count": 0,
      "outputs": []
    },
    {
      "cell_type": "code",
      "metadata": {
        "id": "kh5US5gz6kHQ",
        "colab_type": "code",
        "colab": {}
      },
      "source": [
        "Q1 = boston_df.quantile(0.25)\n",
        "Q3 = boston_df.quantile(0.75)\n",
        "IQR = Q3 - Q1\n",
        "print(IQR)"
      ],
      "execution_count": 0,
      "outputs": []
    },
    {
      "cell_type": "code",
      "metadata": {
        "id": "WCQP_KpL6I8Y",
        "colab_type": "code",
        "colab": {}
      },
      "source": [
        "boston_df_out = boston_df[~((boston_df < (Q1 - 1.5 * IQR)) |(boston_df > (Q3 + 1.5 * IQR))).any(axis=1)]\n",
        "boston_df_out.shape"
      ],
      "execution_count": 0,
      "outputs": []
    },
    {
      "cell_type": "markdown",
      "metadata": {
        "id": "dLtoD9E79_Bo",
        "colab_type": "text"
      },
      "source": [
        "https://heartbeat.fritz.ai/how-to-make-your-machine-learning-models-robust-to-outliers-44d404067d07"
      ]
    },
    {
      "cell_type": "markdown",
      "metadata": {
        "id": "rYtpemhD60ah",
        "colab_type": "text"
      },
      "source": [
        "Whether an outlier should be removed or not. Every data analyst/data scientist might get these thoughts once in every problem they are working on. I have found some good explanations"
      ]
    },
    {
      "cell_type": "markdown",
      "metadata": {
        "id": "_ZMBKKWN7Fxu",
        "colab_type": "text"
      },
      "source": [
        "An outlier is an observation that appears to deviate markedly from other observations in the sample An outlier may indicate bad data. For example, the data may have been coded incorrectly or an experiment may not have been run correctly. \n",
        "If it can be determined that an outlying point is in fact erroneous, then the outlying value should be deleted from the analysis (or corrected if possible).\n",
        "In some cases, it may not be possible to determine if an outlying point is bad data. Outliers may be due to random variation or may indicate something scientifically interesting. In any event, we should not  simply delete the outlying observation before a through investigation"
      ]
    },
    {
      "cell_type": "markdown",
      "metadata": {
        "id": "vdJgbzoz7O4M",
        "colab_type": "text"
      },
      "source": [
        "Outliers should be rare. If they are not rare, the method (and hence the entire data set) is bad and/or not trustworthy."
      ]
    },
    {
      "cell_type": "markdown",
      "metadata": {
        "id": "lwTn9Spi7j-3",
        "colab_type": "text"
      },
      "source": [
        "If outliers are rare, they have no statistical impact. In small samples they will be extremely rare (what is not a statistical problem, although they may have a considerable impact these particular case where they in fact occur), in large samples they won't have any considerable levarage or impact - so why care?\n",
        "In small samples there is another \"problem\": values may be outlying - but not because these outlying values are \"wrong\" but rather because the rest of the values cumps together more tightly as they should. So the \"outlier\" is actually the only datum \"putting things right\". Removing it would unneccesarily introduce bias, what is a rather bad thing.\n",
        "Clearly, outliers with considerable leavarage can indicate a problem with the measurement or the data recording, communication or whatever. In *such* cases it is absolutely recommended to remove these values. But the judgement about this is based on reasons external to the data. Either the values are known to be \"impossible\" (e.g. recordings of a persons weight of 87653 kg [the mistake could be that the weight was wrongly given in grams] or the duration of a hostpital stay of more than 153 years and such). Other outlying but not-impossible values might be caused by special circumstances, like a disease study subject, the change of the operator (because the original operator was sick that day the suspect measurement was recorded), a power failure, something like this. But these resons have to be identified to know if the removal of the outlying value would improve the results or possible introduce bias. It may not alway be so easy to find the reasons, especially when looking at multivariate outliers."
      ]
    },
    {
      "cell_type": "markdown",
      "metadata": {
        "id": "jDVKdo_m7zoj",
        "colab_type": "text"
      },
      "source": [
        " bad data, wrong calculation, these can be identified as Outliers and should be dropped but at the same time you might want to correct them too, as they change the level of data i.e. mean which cause issues when you model your data. For ex- 5 people get salary of 10K, 20K, 30K, 40K and 50K and suddenly one of the person start getting salary of 100K. Consider this situation as, you are the employer, the new salary update might be seen as biased and you might need to increase other employee’s salary too, to keep the balance. So, there can be multiple reasons you want to understand and correct the outliers."
      ]
    },
    {
      "cell_type": "markdown",
      "metadata": {
        "id": "jkEgcbtU9LtH",
        "colab_type": "text"
      },
      "source": [
        "dropping data is always a harsh step and should be taken only in extreme conditions when we’re very sure that the outlier is a measurement error, which we generally do not know. The data collection process is rarely provided. When we drop data, we lose information in terms of the variability in data. When we have too many observations and outliers are few, then we can think of dropping these observations."
      ]
    },
    {
      "cell_type": "markdown",
      "metadata": {
        "colab_type": "text",
        "id": "f-Ke70EJTJ0y"
      },
      "source": [
        "# **Imputation**\n",
        "\n",
        "One way to handle missing data is to get rid of the observations that have missing data. However, you will risk losing data points with valuable information. A better strategy would be to impute the missing values. In other words, we need to infer those missing values from the existing part of the data. There are three main types of missing data:"
      ]
    },
    {
      "cell_type": "markdown",
      "metadata": {
        "id": "OlYJ4DljZ0R_",
        "colab_type": "text"
      },
      "source": [
        "https://towardsdatascience.com/6-different-ways-to-compensate-for-missing-values-data-imputation-with-examples-6022d9ca0779"
      ]
    },
    {
      "cell_type": "markdown",
      "metadata": {
        "id": "8Xjgzs-GYz2m",
        "colab_type": "text"
      },
      "source": [
        "**Types of Missing Data**<br>\n",
        "Missing completely at random (MCAR)\n",
        "Missing at random (MAR)\n",
        "Not missing at random (NMAR)"
      ]
    },
    {
      "cell_type": "markdown",
      "metadata": {
        "id": "Pzie1_S_ZQlD",
        "colab_type": "text"
      },
      "source": [
        "Some algorithms can factor in the missing values and learn the best imputation values for the missing data based on the training loss reduction (ie. XGBoost). Some others have the option to just ignore them (ie. LightGBM — use_missing=false). However, other algorithms will panic and throw an error complaining about the missing values (ie. Scikit learn — LinearRegression). In that case, you will need to handle the missing data and clean it before feeding it to the algorithm."
      ]
    },
    {
      "cell_type": "code",
      "metadata": {
        "id": "q8Jq7abOpTba",
        "colab_type": "code",
        "colab": {}
      },
      "source": [
        "threshold = 0.7\n",
        "#Dropping columns with missing value rate higher than threshold\n",
        "drop_list = data[data.columns[data.isnull().mean() > threshold]]\n",
        "data = data[data.columns[data.isnull().mean() < threshold]]\n",
        "drop_list.shape"
      ],
      "execution_count": 0,
      "outputs": []
    },
    {
      "cell_type": "code",
      "metadata": {
        "id": "-8abe1ctaIcb",
        "colab_type": "code",
        "colab": {}
      },
      "source": [
        "drop_list.head()"
      ],
      "execution_count": 0,
      "outputs": []
    },
    {
      "cell_type": "code",
      "metadata": {
        "id": "I9UH4oaMY1B2",
        "colab_type": "code",
        "colab": {}
      },
      "source": [
        "#Dropping rows with missing value rate higher than threshold\n",
        "data = data.loc[data.isnull().mean(axis=1) < threshold]\n",
        "data.shape"
      ],
      "execution_count": 0,
      "outputs": []
    },
    {
      "cell_type": "markdown",
      "metadata": {
        "id": "OT_RtEoqpXDw",
        "colab_type": "text"
      },
      "source": [
        "**Numerical Imputation**"
      ]
    },
    {
      "cell_type": "markdown",
      "metadata": {
        "id": "Gd6wj8r1ZnvK",
        "colab_type": "text"
      },
      "source": [
        "calculating the mean/median of the non-missing values in a column and then replacing the missing values within each column separately and independently from the others. It can only be used with numeric data."
      ]
    },
    {
      "cell_type": "markdown",
      "metadata": {
        "id": "7erH99SsaIGD",
        "colab_type": "text"
      },
      "source": [
        "Pros:\n",
        "Easy and fast.\n",
        "Works well with small numerical datasets.\n",
        "Cons:\n",
        "Doesn’t factor the correlations between features. It only works on the column level.\n",
        "Will give poor results on encoded categorical features (do NOT use it on categorical features).\n",
        "Not very accurate.\n",
        "Doesn’t account for the uncertainty in the imputations."
      ]
    },
    {
      "cell_type": "code",
      "metadata": {
        "id": "Njymg3SzaOIn",
        "colab_type": "code",
        "colab": {}
      },
      "source": [
        "from sklearn.datasets import fetch_california_housing\n",
        "from sklearn.linear_model import LinearRegression\n",
        "from sklearn.model_selection import StratifiedKFold\n",
        "from sklearn.metrics import mean_squared_error\n",
        "from math import sqrt\n",
        "import random\n",
        "import numpy as np\n",
        "random.seed(0)\n",
        "\n",
        "#Fetching the dataset\n",
        "import pandas as pd\n",
        "dataset = fetch_california_housing()\n",
        "train, target = pd.DataFrame(dataset.data), pd.DataFrame(dataset.target)\n",
        "train.columns = ['0','1','2','3','4','5','6','7']\n",
        "train.insert(loc=len(train.columns), column='target', value=target)\n",
        "\n",
        "#Randomly replace 40% of the first column with NaN values\n",
        "column = train['0']\n",
        "print(column.size)\n",
        "missing_pct = int(column.size * 0.4)\n",
        "i = [random.choice(range(column.shape[0])) for _ in range(missing_pct)]\n",
        "column[i] = np.NaN\n",
        "print(column.shape[0])\n",
        "\n",
        "#Impute the values using scikit-learn SimpleImpute Class\n",
        "from sklearn.impute import SimpleImputer\n",
        "imp_mean = SimpleImputer( strategy='mean') #for median imputation replace 'mean' with 'median'\n",
        "imp_mean.fit(train)\n",
        "imputed_train_df = imp_mean.transform(train)"
      ],
      "execution_count": 0,
      "outputs": []
    },
    {
      "cell_type": "markdown",
      "metadata": {
        "id": "L8e2ftciamLL",
        "colab_type": "text"
      },
      "source": [
        "**Imputation Using (Most Frequent) "
      ]
    },
    {
      "cell_type": "markdown",
      "metadata": {
        "id": "a4BSTWReatSV",
        "colab_type": "text"
      },
      "source": [
        "Most Frequent is another statistical strategy to impute missing values and YES!! It works with categorical features (strings or numerical representations) by replacing missing data with the most frequent values within each column.\n",
        "Pros:\n",
        "Works well with categorical features.\n",
        "Cons:\n",
        "It also doesn’t factor the correlations between features.\n",
        "It can introduce bias in the data."
      ]
    },
    {
      "cell_type": "code",
      "metadata": {
        "id": "Wm5c81B8az__",
        "colab_type": "code",
        "colab": {}
      },
      "source": [
        "\n",
        "#Impute the values using scikit-learn SimpleImpute Class\n",
        "\n",
        "from sklearn.impute import SimpleImputer\n",
        "imp_mean = SimpleImputer( strategy='most_frequent')\n",
        "imp_mean.fit(train)\n",
        "imputed_train_df = imp_mean.transform(train)"
      ],
      "execution_count": 0,
      "outputs": []
    },
    {
      "cell_type": "markdown",
      "metadata": {
        "id": "9Qcui2XqbSrg",
        "colab_type": "text"
      },
      "source": [
        "**Imputation Using  (Zero/Constant) Values**:"
      ]
    },
    {
      "cell_type": "markdown",
      "metadata": {
        "id": "BMibWp6ibf-1",
        "colab_type": "text"
      },
      "source": [
        "Pros:\n",
        "Works well with categorical features.\n",
        "Cons:\n",
        "It also doesn’t factor the correlations between features.\n",
        "It can introduce bias in the data.\n"
      ]
    },
    {
      "cell_type": "code",
      "metadata": {
        "id": "7rre3-YepWSc",
        "colab_type": "code",
        "colab": {}
      },
      "source": [
        "#Filling all missing values with 0\n",
        "data = data.fillna(0)\n",
        "#Filling missing values with medians of the columns\n",
        "data = data.fillna(data.median())\n"
      ],
      "execution_count": 0,
      "outputs": []
    },
    {
      "cell_type": "markdown",
      "metadata": {
        "id": "AFCLOnqvcGKk",
        "colab_type": "text"
      },
      "source": [
        "**Imputation Using k-NN**"
      ]
    },
    {
      "cell_type": "markdown",
      "metadata": {
        "id": "Mcg6b7aEcMXg",
        "colab_type": "text"
      },
      "source": [
        "The k nearest neighbours is an algorithm that is used for simple classification. The algorithm uses ‘feature similarity’ to predict the values of any new data points. This means that the new point is assigned a value based on how closely it resembles the points in the training set. This can be very useful in making predictions about the missing values by finding the k’s closest neighbours to the observation with missing data and then imputing them based on the non-missing values in the neighbourhood. Let’s see some example code using Impyute library which provides a simple and easy way to use KNN for imputation:"
      ]
    },
    {
      "cell_type": "markdown",
      "metadata": {
        "id": "mwtcQ4b8cgcL",
        "colab_type": "text"
      },
      "source": [
        "It creates a basic mean impute then uses the resulting complete list to construct a KDTree. Then, it uses the resulting KDTree to compute nearest neighbours (NN). After it finds the k-NNs, it takes the weighted average of them."
      ]
    },
    {
      "cell_type": "markdown",
      "metadata": {
        "id": "TXCekrR9cc75",
        "colab_type": "text"
      },
      "source": [
        "Pros:\n",
        "Can be much more accurate than the mean, median or most frequent imputation methods (It depends on the dataset).\n",
        "Cons:\n",
        "Computationally expensive. KNN works by storing the whole training dataset in memory.\n",
        "K-NN is quite sensitive to outliers in the data (unlike SVM)"
      ]
    },
    {
      "cell_type": "code",
      "metadata": {
        "id": "IFrvVxTWcPeZ",
        "colab_type": "code",
        "colab": {}
      },
      "source": [
        "\n",
        "import sys\n",
        "from impyute.imputation.cs import fast_knn\n",
        "sys.setrecursionlimit(100000) #Increase the recursion limit of the OS\n",
        "\n",
        "# start the KNN training\n",
        "imputed_training=fast_knn(train.values, k=30)"
      ],
      "execution_count": 0,
      "outputs": []
    },
    {
      "cell_type": "markdown",
      "metadata": {
        "id": "C27JsqcrpZ_w",
        "colab_type": "text"
      },
      "source": [
        "Categorical Imputation\n"
      ]
    },
    {
      "cell_type": "code",
      "metadata": {
        "id": "9Re070sIpaJ8",
        "colab_type": "code",
        "colab": {}
      },
      "source": [
        "#Max fill function for categorical columns\n",
        "data['column_name'].fillna(data['column_name'].value_counts()\n",
        ".idxmax(), inplace=True)"
      ],
      "execution_count": 0,
      "outputs": []
    },
    {
      "cell_type": "markdown",
      "metadata": {
        "id": "Y0ufyTqfc4G7",
        "colab_type": "text"
      },
      "source": [
        "**Imputation Using Multivariate Imputation by Chained Equation (MICE)**"
      ]
    },
    {
      "cell_type": "markdown",
      "metadata": {
        "id": "EQ8n52IOdHlM",
        "colab_type": "text"
      },
      "source": [
        "This type of imputation works by filling the missing data multiple times. Multiple Imputations (MIs) are much better than a single imputation as it measures the uncertainty of the missing values in a better way. The chained equations approach is also very flexible and can handle different variables of different data types (ie., continuous or binary) as well as complexities such as bounds or survey skip patterns. For more information on the algorithm mechanics, you can refer to the Research Paper"
      ]
    },
    {
      "cell_type": "code",
      "metadata": {
        "id": "oYMzPs5oc8oD",
        "colab_type": "code",
        "colab": {}
      },
      "source": [
        "from impyute.imputation.cs import mice\n",
        "\n",
        "# start the MICE training\n",
        "imputed_training=mice(train.values)"
      ],
      "execution_count": 0,
      "outputs": []
    },
    {
      "cell_type": "markdown",
      "metadata": {
        "id": "95v6kouudOHH",
        "colab_type": "text"
      },
      "source": [
        "**Imputation Using Deep Learning (Datawig):**\n",
        "This method works very well with categorical and non-numerical features. It is a library that learns Machine Learning models using Deep Neural Networks to impute missing values in a dataframe. It also supports both CPU and GPU for training."
      ]
    },
    {
      "cell_type": "markdown",
      "metadata": {
        "id": "JsTTPOU9gn5s",
        "colab_type": "text"
      },
      "source": [
        "Pros:\n",
        "Quite accurate compared to other methods.\n",
        "It has some functions that can handle categorical data (Feature Encoder).\n",
        "It supports CPUs and GPUs.\n",
        "Cons:\n",
        "Single Column imputation.\n",
        "Can be quite slow with large datasets.\n",
        "You have to specify the columns that contain information about the target column that will be imputed."
      ]
    },
    {
      "cell_type": "code",
      "metadata": {
        "id": "y15kZkaydTUk",
        "colab_type": "code",
        "colab": {}
      },
      "source": [
        "import datawig\n",
        "\n",
        "df_train, df_test = datawig.utils.random_split(train)\n",
        "\n",
        "#Initialize a SimpleImputer model\n",
        "imputer = datawig.SimpleImputer(\n",
        "    input_columns=['1','2','3','4','5','6','7', 'target'], # column(s) containing information about the column we want to impute\n",
        "    output_column= '0', # the column we'd like to impute values for\n",
        "    output_path = 'imputer_model' # stores model data and metrics\n",
        "    )\n",
        "\n",
        "#Fit an imputer model on the train data\n",
        "imputer.fit(train_df=df_train, num_epochs=50)\n",
        "\n",
        "#Impute missing values and return original dataframe with predictions\n",
        "imputed = imputer.predict(df_test)"
      ],
      "execution_count": 0,
      "outputs": []
    },
    {
      "cell_type": "markdown",
      "metadata": {
        "id": "Sqi39GZppgXW",
        "colab_type": "text"
      },
      "source": [
        "Outliers"
      ]
    },
    {
      "cell_type": "markdown",
      "metadata": {
        "id": "RHt4WjZ6pvFC",
        "colab_type": "text"
      },
      "source": [
        "Detect Outliers"
      ]
    },
    {
      "cell_type": "code",
      "metadata": {
        "id": "W-iO3202pgha",
        "colab_type": "code",
        "colab": {}
      },
      "source": [
        "#Dropping the outlier rows with standard deviation\n",
        "factor = 3\n",
        "upper_lim = data['column'].mean () + data['column'].std () * factor\n",
        "lower_lim = data['column'].mean () - data['column'].std () * factor\n",
        "\n",
        "data = data[(data['column'] < upper_lim) & (data['column'] > lower_lim)]"
      ],
      "execution_count": 0,
      "outputs": []
    },
    {
      "cell_type": "markdown",
      "metadata": {
        "id": "72MJqFCLpxLA",
        "colab_type": "text"
      },
      "source": [
        "Dropping Outlier Rows with Standard Deviation\n",
        "\n",
        "\n"
      ]
    },
    {
      "cell_type": "code",
      "metadata": {
        "id": "C4mi-eVYp-fa",
        "colab_type": "code",
        "colab": {}
      },
      "source": [
        "#Dropping the outlier rows with standard deviation\n",
        "factor = 3\n",
        "upper_lim = data['column'].mean () + data['column'].std () * factor\n",
        "lower_lim = data['column'].mean () - data['column'].std () * factor\n",
        "\n",
        "data = data[(data['column'] < upper_lim) & (data['column'] > lower_lim)]"
      ],
      "execution_count": 0,
      "outputs": []
    },
    {
      "cell_type": "markdown",
      "metadata": {
        "id": "cGXOLUqOp_Ea",
        "colab_type": "text"
      },
      "source": [
        "Outlier Detection with Percentiles"
      ]
    },
    {
      "cell_type": "code",
      "metadata": {
        "id": "KcU2zmHkpxWs",
        "colab_type": "code",
        "colab": {}
      },
      "source": [
        "#Dropping the outlier rows with Percentiles\n",
        "upper_lim = data['column'].quantile(.95)\n",
        "lower_lim = data['column'].quantile(.05)\n",
        "\n",
        "data = data[(data['column'] < upper_lim) & (data['column'] > lower_lim)]"
      ],
      "execution_count": 0,
      "outputs": []
    },
    {
      "cell_type": "markdown",
      "metadata": {
        "id": "dg9oYcqsqGeQ",
        "colab_type": "text"
      },
      "source": [
        "An Outlier Dilemma: Drop or Cap"
      ]
    },
    {
      "cell_type": "code",
      "metadata": {
        "id": "e9BAjhigqHEi",
        "colab_type": "code",
        "colab": {}
      },
      "source": [
        "#Capping the outlier rows with Percentiles\n",
        "upper_lim = data['column'].quantile(.95)\n",
        "lower_lim = data['column'].quantile(.05)\n",
        "data.loc[(df[column] > upper_lim),column] = upper_lim\n",
        "data.loc[(df[column] < lower_lim),column] = lower_lim"
      ],
      "execution_count": 0,
      "outputs": []
    },
    {
      "cell_type": "markdown",
      "metadata": {
        "id": "vyTbLsbNxhEe",
        "colab_type": "text"
      },
      "source": [
        "# **Binning**"
      ]
    },
    {
      "cell_type": "markdown",
      "metadata": {
        "id": "K8w3s9qRhW13",
        "colab_type": "text"
      },
      "source": [
        "A column of continuous numbers has too many unique values to model effectively, so you automatically or manually assign the values to groups, to create a smaller set of discrete ranges."
      ]
    },
    {
      "cell_type": "markdown",
      "metadata": {
        "id": "ZcWB_7lBhcLn",
        "colab_type": "text"
      },
      "source": [
        "Replace a column of numbers with categorical values that represent specific ranges."
      ]
    },
    {
      "cell_type": "markdown",
      "metadata": {
        "id": "qD00G-47hhvm",
        "colab_type": "text"
      },
      "source": [
        "A dataset has a few extreme values, all well outside the expected range, and these values have an outsized influence on the trained model. To mitigate the bias in the model, you might transform the data to a uniform distribution, using the quantiles (or equal-height) method"
      ]
    },
    {
      "cell_type": "code",
      "metadata": {
        "id": "DzNcscP8zMrQ",
        "colab_type": "code",
        "colab": {}
      },
      "source": [
        "insert image"
      ],
      "execution_count": 0,
      "outputs": []
    },
    {
      "cell_type": "code",
      "metadata": {
        "id": "Z031fi5tzPF7",
        "colab_type": "code",
        "colab": {}
      },
      "source": [
        ""
      ],
      "execution_count": 0,
      "outputs": []
    },
    {
      "cell_type": "markdown",
      "metadata": {
        "id": "YvSjeWTqzVwh",
        "colab_type": "text"
      },
      "source": [
        "Binning can be applied on both categorical and numerical data:\n",
        "Numerical Binning Example\n",
        "Value      Bin       \n",
        "0-30   ->  Low       \n",
        "31-70  ->  Mid       \n",
        "71-100 ->  High\n",
        "\n",
        "Categorical Binning Example\n",
        "Value      Bin       \n",
        "Spain  ->  Europe      \n",
        "Italy  ->  Europe       \n",
        "Chile  ->  South America\n",
        "Brazil ->  South America"
      ]
    },
    {
      "cell_type": "markdown",
      "metadata": {
        "id": "3VxHeug8zfcL",
        "colab_type": "text"
      },
      "source": [
        "The main motivation of binning is to make the model more robust and prevent overfitting, however, it has a cost to the performance.  Every time you bin something, you sacrifice information **and make your data more regularized.**\n",
        "\n",
        "The trade-off between performance and overfitting is the key point of the binning process. In my opinion, for numerical columns, except for some obvious overfitting cases, binning might be redundant for some kind of algorithms, due to its effect on model performance.\n",
        "However, for categorical columns, the labels with low frequencies probably affect the robustness of statistical models negatively. Thus, assigning a general category to these less frequent values helps to keep the robustness of the model. For example, if your data size is 100,000 rows, it might be a good option to unite the labels with a count less than 100 to a new category like “Other”."
      ]
    },
    {
      "cell_type": "code",
      "metadata": {
        "id": "s-x7EPoTz5nF",
        "colab_type": "code",
        "colab": {}
      },
      "source": [
        "binning example"
      ],
      "execution_count": 0,
      "outputs": []
    },
    {
      "cell_type": "markdown",
      "metadata": {
        "id": "VD6Ch-xV0Gx8",
        "colab_type": "text"
      },
      "source": [
        "Log Transform"
      ]
    },
    {
      "cell_type": "markdown",
      "metadata": {
        "id": "2cUvALCb0T1s",
        "colab_type": "text"
      },
      "source": [
        "Logarithm transformation (or log transform) is one of the most commonly used mathematical transformations in feature engineering. What are the benefits of log transform:\n",
        "It helps to handle skewed data and after transformation, the distribution becomes more approximate to normal.\n",
        "In most of the cases the magnitude order of the data changes within the range of the data. For instance, the difference between ages 15 and 20 is not equal to the ages 65 and 70. In terms of years, yes, they are identical, but for all other aspects, 5 years of difference in young ages mean a higher magnitude difference. This type of data comes from a multiplicative process and log transform normalizes the magnitude differences like that.\n",
        "It also decreases the effect of the outliers, due to the normalization of magnitude differences and the model become more robust.\n",
        "A critical note: The data you apply log transform must have only positive values, otherwise you receive an error. Also, you can add 1 to your data before transform it. Thus, you ensure the output of the transformation to be positive.\n",
        "Log(x+1)"
      ]
    },
    {
      "cell_type": "markdown",
      "metadata": {
        "id": "5sZuX78s0Z46",
        "colab_type": "text"
      },
      "source": [
        "#Log Transform Example\n",
        "data = pd.DataFrame({'value':[2,45, -23, 85, 28, 2, 35, -12]})\n",
        "data['log+1'] = (data['value']+1).transform(np.log)\n",
        "#Negative Values Handling\n",
        "#Note that the values are different\n",
        "data['log'] = (data['value']-data['value'].min()+1) .transform(np.log)\n",
        "   value  log(x+1)  log(x-min(x)+1)\n",
        "0      2   1.09861          3.25810\n",
        "1     45   3.82864          4.23411\n",
        "2    -23       nan          0.00000\n",
        "3     85   4.45435          4.69135\n",
        "4     28   3.36730          3.95124\n",
        "5      2   1.09861          3.25810\n",
        "6     35   3.58352          4.07754\n",
        "7    -12       nan          2.48491"
      ]
    },
    {
      "cell_type": "markdown",
      "metadata": {
        "id": "D6VxT_3I0hkO",
        "colab_type": "text"
      },
      "source": [
        "One-hot encoding\n",
        "One-hot encoding is one of the most common encoding methods in machine learning. This method spreads the values in a column to multiple flag columns and assigns 0 or 1 to them. These binary values express the relationship between grouped and encoded column.\n",
        "This method changes your categorical data, which is challenging to understand for algorithms, to a numerical format and enables you to group your categorical data without losing any information. "
      ]
    },
    {
      "cell_type": "markdown",
      "metadata": {
        "id": "q0A5UuWT0pqd",
        "colab_type": "text"
      },
      "source": [
        "Grouping Operations\n",
        "In most machine learning algorithms, every instance is represented by a row in the training dataset, where every column show a different feature of the instance. This kind of data called “Tidy”.\n",
        "Tidy datasets are easy to manipulate, model and visualise, and have a specific structure: each variable is a column, each observation is a row, and each type of observational unit is a table.\n",
        "— Hadley Wickham\n",
        "Datasets such as transactions rarely fit the definition of tidy data above, because of the multiple rows of an instance. In such a case, we group the data by the instances and then every instance is represented by only one row.\n",
        "The key point of group by operations is to decide the aggregation functions of the features. For numerical features, average and sum functions are usually convenient options, whereas for categorical features it more complicated."
      ]
    },
    {
      "cell_type": "markdown",
      "metadata": {
        "id": "xCfV7Szq0vZy",
        "colab_type": "text"
      },
      "source": [
        "Categorical Column Grouping\n",
        "I suggest three different ways for aggregating categorical columns:\n",
        "The first option is to select the label with the highest frequency. In other words, this is the max operation for categorical columns, but ordinary max functions generally do not return this value, you need to use a lambda function for this purpose.\n",
        "data.groupby('id').agg(lambda x: x.value_counts().index[0])\n",
        "Second option is to make a pivot table. This approach resembles the encoding method in the preceding step with a difference. Instead of binary notation, it can be defined as aggregated functions for the values between grouped and encoded columns. This would be a good option if you aim to go beyond binary flag columns and merge multiple features into aggregated features, which are more informative.\n",
        "\n",
        "Pivot table example: Sum of Visit Days grouped by Users\n",
        "#Pivot table Pandas Example\n",
        "data.pivot_table(index='column_to_group', columns='column_to_encode', values='aggregation_column', aggfunc=np.sum, fill_value = 0)\n",
        "Last categorical grouping option is to apply a group by function after applying one-hot encoding. This method preserves all the data -in the first option you lose some-, and in addition, you transform the encoded column from categorical to numerical in the meantime. You can check the next section for the explanation of numerical column grouping.\n",
        "Numerical Column Grouping\n",
        "Numerical columns are grouped using sum and mean functions in most of the cases. Both can be preferable according to the meaning of the feature. For example, if you want to obtain ratio columns, you can use the average of binary columns. In the same example, sum function can be used to obtain the total count either.\n",
        "#sum_cols: List of columns to sum\n",
        "#mean_cols: List of columns to average\n",
        "grouped = data.groupby('column_to_group')\n",
        "\n",
        "sums = grouped[sum_cols].sum().add_suffix('_sum')\n",
        "avgs = grouped[mean_cols].mean().add_suffix('_avg')\n",
        "\n",
        "new_df = pd.concat([sums, avgs], axis=1)"
      ]
    },
    {
      "cell_type": "markdown",
      "metadata": {
        "id": "TRPilN6K00XT",
        "colab_type": "text"
      },
      "source": [
        "Feature Split"
      ]
    },
    {
      "cell_type": "markdown",
      "metadata": {
        "id": "Cv4YQeoY05Mo",
        "colab_type": "text"
      },
      "source": [
        "Splitting features is a good way to make them useful in terms of machine learning. Most of the time the dataset contains string columns that violates tidy data principles. By extracting the utilizable parts of a column into new features:\n",
        "We enable machine learning algorithms to comprehend them.\n",
        "Make possible to bin and group them.\n",
        "Improve model performance by uncovering potential information.\n",
        "Split function is a good option, however, there is no one way of splitting features. It depends on the characteristics of the column, how to split it. Let’s introduce it with two examples. First, a simple split function for an ordinary name column:\n",
        "data.name\n",
        "0  Luther N. Gonzalez\n",
        "1    Charles M. Young\n",
        "2        Terry Lawson\n",
        "3       Kristen White\n",
        "4      Thomas Logsdon\n",
        "#Extracting first names\n",
        "data.name.str.split(\" \").map(lambda x: x[0])\n",
        "0     Luther\n",
        "1    Charles\n",
        "2      Terry\n",
        "3    Kristen\n",
        "4     Thomas\n",
        "#Extracting last names\n",
        "data.name.str.split(\" \").map(lambda x: x[-1])\n",
        "0    Gonzalez\n",
        "1       Young\n",
        "2      Lawson\n",
        "3       White\n",
        "4     Logsdon\n",
        "The example above handles the names longer than two words by taking only the first and last elements and it makes the function robust for corner cases, which should be regarded when manipulating strings like that.\n",
        "Another case for split function is to extract a string part between two chars. The following example shows an implementation of this case by using two split functions in a row.\n",
        "#String extraction example\n",
        "data.title.head()\n",
        "0                      Toy Story (1995)\n",
        "1                        Jumanji (1995)\n",
        "2               Grumpier Old Men (1995)\n",
        "3              Waiting to Exhale (1995)\n",
        "4    Father of the Bride Part II (1995)\n",
        "data.title.str.split(\"(\", n=1, expand=True)[1].str.split(\")\", n=1, expand=True)[0]\n",
        "0    1995\n",
        "1    1995\n",
        "2    1995\n",
        "3    1995\n",
        "4    1995"
      ]
    },
    {
      "cell_type": "markdown",
      "metadata": {
        "id": "VA8p523_08ka",
        "colab_type": "text"
      },
      "source": [
        "Scaling"
      ]
    },
    {
      "cell_type": "markdown",
      "metadata": {
        "id": "RCWnmjWv09il",
        "colab_type": "text"
      },
      "source": [
        "In most cases, the numerical features of the dataset do not have a certain range and they differ from each other. In real life, it is nonsense to expect age and income columns to have the same range. But from the machine learning point of view, how these two columns can be compared?\n",
        "Scaling solves this problem. The continuous features become identical in terms of the range, after a scaling process. This process is not mandatory for many algorithms, but it might be still nice to apply. However, the algorithms based on distance calculations such as k-NN or k-Means need to have scaled continuous features as model input.\n",
        "Basically, there are two common ways of scaling:\n",
        "Normalization\n",
        "\n",
        "Normalization (or min-max normalization) scale all values in a fixed range between 0 and 1. This transformation does not change the distribution of the feature and due to the decreased standard deviations, the effects of the outliers increases. Therefore, before normalization, it is recommended to handle the outliers.\n",
        "data = pd.DataFrame({'value':[2,45, -23, 85, 28, 2, 35, -12]})\n",
        "\n",
        "data['normalized'] = (data['value'] - data['value'].min()) / (data['value'].max() - data['value'].min())\n",
        "   value  normalized\n",
        "0      2        0.23\n",
        "1     45        0.63\n",
        "2    -23        0.00\n",
        "3     85        1.00\n",
        "4     28        0.47\n",
        "5      2        0.23\n",
        "6     35        0.54\n",
        "7    -12        0.10"
      ]
    },
    {
      "cell_type": "markdown",
      "metadata": {
        "id": "WJhvMQR11JgY",
        "colab_type": "text"
      },
      "source": [
        "Standardization\n",
        "Standardization (or z-score normalization) scales the values while taking into account standard deviation. If the standard deviation of features is different, their range also would differ from each other. This reduces the effect of the outliers in the features.\n",
        "In the following formula of standardization, the mean is shown as μ and the standard deviation is shown as σ.\n",
        "\n",
        "data = pd.DataFrame({'value':[2,45, -23, 85, 28, 2, 35, -12]})\n",
        "\n",
        "data['standardized'] = (data['value'] - data['value'].mean()) / data['value'].std()\n",
        "   value  standardized\n",
        "0      2         -0.52\n",
        "1     45          0.70\n",
        "2    -23         -1.23\n",
        "3     85          1.84\n",
        "4     28          0.22\n",
        "5      2         -0.52\n",
        "6     35          0.42\n",
        "7    -12         -0.92"
      ]
    },
    {
      "cell_type": "markdown",
      "metadata": {
        "id": "GV3sq4cm1P3-",
        "colab_type": "text"
      },
      "source": [
        "Extracting Date\n",
        "Though date columns usually provide valuable information about the model target, they are neglected as an input or used nonsensically for the machine learning algorithms. It might be the reason for this, that dates can be present in numerous formats, which make it hard to understand by algorithms, even they are simplified to a format like \"01–01–2017\".\n",
        "Building an ordinal relationship between the values is very challenging for a machine learning algorithm if you leave the date columns without manipulation. Here, I suggest three types of preprocessing for dates:\n",
        "Extracting the parts of the date into different columns: Year, month, day, etc.\n",
        "Extracting the time period between the current date and columns in terms of years, months, days, etc.\n",
        "Extracting some specific features from the date: Name of the weekday, Weekend or not, holiday or not, etc.\n",
        "If you transform the date column into the extracted columns like above, the information of them become disclosed and machine learning algorithms can easily understand them.\n",
        "from datetime import date\n",
        "\n",
        "data = pd.DataFrame({'date':\n",
        "['01-01-2017',\n",
        "'04-12-2008',\n",
        "'23-06-1988',\n",
        "'25-08-1999',\n",
        "'20-02-1993',\n",
        "]})\n",
        "\n",
        "#Transform string to date\n",
        "data['date'] = pd.to_datetime(data.date, format=\"%d-%m-%Y\")\n",
        "\n",
        "#Extracting Year\n",
        "data['year'] = data['date'].dt.year\n",
        "\n",
        "#Extracting Month\n",
        "data['month'] = data['date'].dt.month\n",
        "\n",
        "#Extracting passed years since the date\n",
        "data['passed_years'] = date.today().year - data['date'].dt.year\n",
        "\n",
        "#Extracting passed months since the date\n",
        "data['passed_months'] = (date.today().year - data['date'].dt.year) * 12 + date.today().month - data['date'].dt.month\n",
        "\n",
        "#Extracting the weekday name of the date\n",
        "data['day_name'] = data['date'].dt.day_name()\n",
        "        date  year  month  passed_years  passed_months   day_name\n",
        "0 2017-01-01  2017      1             2             26     Sunday\n",
        "1 2008-12-04  2008     12            11            123   Thursday\n",
        "2 1988-06-23  1988      6            31            369   Thursday\n",
        "3 1999-08-25  1999      8            20            235  Wednesday\n",
        "4 1993-02-20  1993      2            26            313   Saturday"
      ]
    }
  ]
}