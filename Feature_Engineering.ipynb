{
  "nbformat": 4,
  "nbformat_minor": 0,
  "metadata": {
    "colab": {
      "name": "Feature Engineering.ipynb",
      "provenance": [],
      "private_outputs": true,
      "authorship_tag": "ABX9TyOFOTzuqrXjPqaHQjLjXkSY",
      "include_colab_link": true
    },
    "kernelspec": {
      "name": "python3",
      "display_name": "Python 3"
    },
    "accelerator": "GPU"
  },
  "cells": [
    {
      "cell_type": "markdown",
      "metadata": {
        "id": "view-in-github",
        "colab_type": "text"
      },
      "source": [
        "<a href=\"https://colab.research.google.com/github/cagBRT/FeatureEngineering/blob/master/Feature_Engineering.ipynb\" target=\"_parent\"><img src=\"https://colab.research.google.com/assets/colab-badge.svg\" alt=\"Open In Colab\"/></a>"
      ]
    },
    {
      "cell_type": "markdown",
      "metadata": {
        "id": "fymCvydgpk3p",
        "colab_type": "text"
      },
      "source": [
        "https://towardsdatascience.com/feature-engineering-for-machine-learning-3a5e293a5114\n"
      ]
    },
    {
      "cell_type": "code",
      "metadata": {
        "id": "WSnfJ2MPpDKM",
        "colab_type": "code",
        "colab": {}
      },
      "source": [
        "import pandas as pd\n",
        "import numpy as np\n",
        "import seaborn as sns\n",
        "import matplotlib.pyplot as plt\n",
        "from scipy import stats"
      ],
      "execution_count": 0,
      "outputs": []
    },
    {
      "cell_type": "code",
      "metadata": {
        "id": "rw-ghvFkS32y",
        "colab_type": "code",
        "colab": {}
      },
      "source": [
        "from google.colab import drive\n",
        "drive.mount('/gdrive')"
      ],
      "execution_count": 0,
      "outputs": []
    },
    {
      "cell_type": "code",
      "metadata": {
        "id": "ga2fKWPfTOgc",
        "colab_type": "code",
        "colab": {}
      },
      "source": [
        "data = pd.read_csv(\"/gdrive/My Drive/Building_Permits.csv\")"
      ],
      "execution_count": 0,
      "outputs": []
    },
    {
      "cell_type": "code",
      "metadata": {
        "id": "NqtjQhSBo5S-",
        "colab_type": "code",
        "colab": {}
      },
      "source": [
        "from sklearn.datasets import load_boston\n",
        "X, y = load_boston(return_X_y=True)\n",
        "print(X.shape)\n",
        "\n",
        "boston = load_boston()\n",
        "x = boston.data\n",
        "y = boston.target\n",
        "columns = boston.feature_names\n",
        "#create the dataframe\n",
        "boston_df = pd.DataFrame(boston.data)\n",
        "boston_df.columns = columns\n",
        "boston_df.head()"
      ],
      "execution_count": 0,
      "outputs": []
    },
    {
      "cell_type": "code",
      "metadata": {
        "id": "SANwyTpLZB_u",
        "colab_type": "code",
        "colab": {}
      },
      "source": [
        "data.shape"
      ],
      "execution_count": 0,
      "outputs": []
    },
    {
      "cell_type": "code",
      "metadata": {
        "id": "K_ASQWDaVIsi",
        "colab_type": "code",
        "colab": {}
      },
      "source": [
        "data.count()"
      ],
      "execution_count": 0,
      "outputs": []
    },
    {
      "cell_type": "code",
      "metadata": {
        "id": "bsxVj7gAcjrU",
        "colab_type": "code",
        "colab": {}
      },
      "source": [
        "data.columns"
      ],
      "execution_count": 0,
      "outputs": []
    },
    {
      "cell_type": "code",
      "metadata": {
        "id": "XNy45Qc8dQl8",
        "colab_type": "code",
        "colab": {}
      },
      "source": [
        "data_stats = data.describe()\n",
        "data_stats"
      ],
      "execution_count": 0,
      "outputs": []
    },
    {
      "cell_type": "code",
      "metadata": {
        "id": "krTHKB17cWNf",
        "colab_type": "code",
        "colab": {}
      },
      "source": [
        "sns.pairplot(train_dataset[[\"MPG\", \"Cylinders\", \"Displacement\", \"Weight\"]], diag_kind=\"kde\")\n",
        "plt.show()\n"
      ],
      "execution_count": 0,
      "outputs": []
    },
    {
      "cell_type": "markdown",
      "metadata": {
        "id": "2Jvs39rFd5OT",
        "colab_type": "text"
      },
      "source": [
        "# **outliers**\n",
        "In statistics, an outlier is an observation point that is distant from other observations."
      ]
    },
    {
      "cell_type": "code",
      "metadata": {
        "id": "6s0OkusHd6FF",
        "colab_type": "code",
        "colab": {}
      },
      "source": [
        "sns.boxplot(x=data['Estimated Cost'])"
      ],
      "execution_count": 0,
      "outputs": []
    },
    {
      "cell_type": "code",
      "metadata": {
        "id": "jx26M8HZeuSO",
        "colab_type": "code",
        "colab": {}
      },
      "source": [
        "fig, ax = plt.subplots(figsize=(16,8))\n",
        "ax.scatter(data['Permit Type'], data['Proposed Units'])\n",
        "ax.set_xlabel('permit type')\n",
        "ax.set_ylabel('propsed units')\n",
        "plt.show()"
      ],
      "execution_count": 0,
      "outputs": []
    },
    {
      "cell_type": "markdown",
      "metadata": {
        "id": "wi0_JSzrfbeg",
        "colab_type": "text"
      },
      "source": [
        "Discover outliers with mathematical function\n",
        "Z-Score-<br>\n",
        "The Z-score is the signed number of standard deviations by which the value of an observation or data point is above the mean value of what is being observed or measured.\n",
        "The intuition behind Z-score is to describe any data point by finding their relationship with the Standard Deviation and Mean of the group of data points. Z-score is finding the distribution of data where mean is 0 and standard deviation is 1 i.e. normal distribution.\n",
        "You must be wondering that, how does this help in identifying the outliers? Well, while calculating the Z-score we re-scale and center the data and look for data points which are too far from zero. These data points which are way too far from zero will be treated as the outliers. In most of the cases a threshold of 3 or -3 is used i.e if the Z-score value is greater than or less than 3 or -3 respectively, that data point will be identified as outliers.\n",
        "https://docs.scipy.org/doc/scipy/reference/generated/scipy.stats.zscore.html"
      ]
    },
    {
      "cell_type": "code",
      "metadata": {
        "id": "NCFKcHonfcWE",
        "colab_type": "code",
        "colab": {}
      },
      "source": [
        "z = np.abs(stats.zscore(boston_df))\n",
        "print(z)\n"
      ],
      "execution_count": 0,
      "outputs": []
    },
    {
      "cell_type": "markdown",
      "metadata": {
        "id": "jyjTT9WCpnr3",
        "colab_type": "text"
      },
      "source": [
        "The first array contains the list of row numbers and second array respective column numbers, which mean z[55][1] have a Z-score higher than 3."
      ]
    },
    {
      "cell_type": "code",
      "metadata": {
        "id": "xPOkQO6sfxHG",
        "colab_type": "code",
        "colab": {}
      },
      "source": [
        "threshold = 3\n",
        "print(np.where(z > 3))"
      ],
      "execution_count": 0,
      "outputs": []
    },
    {
      "cell_type": "code",
      "metadata": {
        "id": "o7FXMWzUpubg",
        "colab_type": "code",
        "colab": {}
      },
      "source": [
        "print(z[55][1])"
      ],
      "execution_count": 0,
      "outputs": []
    },
    {
      "cell_type": "code",
      "metadata": {
        "id": "G_TadCCPUGds",
        "colab_type": "code",
        "colab": {}
      },
      "source": [
        "data.isna().sum()"
      ],
      "execution_count": 0,
      "outputs": []
    },
    {
      "cell_type": "markdown",
      "metadata": {
        "colab_type": "text",
        "id": "f-Ke70EJTJ0y"
      },
      "source": [
        "# **Imputation**"
      ]
    },
    {
      "cell_type": "code",
      "metadata": {
        "id": "q8Jq7abOpTba",
        "colab_type": "code",
        "colab": {}
      },
      "source": [
        "threshold = 0.7\n",
        "#Dropping columns with missing value rate higher than threshold\n",
        "drop_list = data[data.columns[data.isnull().mean() > threshold]]\n",
        "data = data[data.columns[data.isnull().mean() < threshold]]\n",
        "drop_list.shape"
      ],
      "execution_count": 0,
      "outputs": []
    },
    {
      "cell_type": "code",
      "metadata": {
        "id": "-8abe1ctaIcb",
        "colab_type": "code",
        "colab": {}
      },
      "source": [
        "drop_list.head()"
      ],
      "execution_count": 0,
      "outputs": []
    },
    {
      "cell_type": "code",
      "metadata": {
        "id": "I9UH4oaMY1B2",
        "colab_type": "code",
        "colab": {}
      },
      "source": [
        "#Dropping rows with missing value rate higher than threshold\n",
        "data = data.loc[data.isnull().mean(axis=1) < threshold]\n",
        "data.shape"
      ],
      "execution_count": 0,
      "outputs": []
    },
    {
      "cell_type": "markdown",
      "metadata": {
        "id": "OT_RtEoqpXDw",
        "colab_type": "text"
      },
      "source": [
        "Numerical Imputation"
      ]
    },
    {
      "cell_type": "code",
      "metadata": {
        "id": "7rre3-YepWSc",
        "colab_type": "code",
        "colab": {}
      },
      "source": [
        "#Filling all missing values with 0\n",
        "data = data.fillna(0)\n",
        "#Filling missing values with medians of the columns\n",
        "data = data.fillna(data.median())\n"
      ],
      "execution_count": 0,
      "outputs": []
    },
    {
      "cell_type": "markdown",
      "metadata": {
        "id": "C27JsqcrpZ_w",
        "colab_type": "text"
      },
      "source": [
        "Categorical Imputation\n"
      ]
    },
    {
      "cell_type": "code",
      "metadata": {
        "id": "9Re070sIpaJ8",
        "colab_type": "code",
        "colab": {}
      },
      "source": [
        "#Max fill function for categorical columns\n",
        "data['column_name'].fillna(data['column_name'].value_counts()\n",
        ".idxmax(), inplace=True)"
      ],
      "execution_count": 0,
      "outputs": []
    },
    {
      "cell_type": "markdown",
      "metadata": {
        "id": "Sqi39GZppgXW",
        "colab_type": "text"
      },
      "source": [
        "Outliers"
      ]
    },
    {
      "cell_type": "markdown",
      "metadata": {
        "id": "RHt4WjZ6pvFC",
        "colab_type": "text"
      },
      "source": [
        "Detect Outliers"
      ]
    },
    {
      "cell_type": "code",
      "metadata": {
        "id": "W-iO3202pgha",
        "colab_type": "code",
        "colab": {}
      },
      "source": [
        "#Dropping the outlier rows with standard deviation\n",
        "factor = 3\n",
        "upper_lim = data['column'].mean () + data['column'].std () * factor\n",
        "lower_lim = data['column'].mean () - data['column'].std () * factor\n",
        "\n",
        "data = data[(data['column'] < upper_lim) & (data['column'] > lower_lim)]"
      ],
      "execution_count": 0,
      "outputs": []
    },
    {
      "cell_type": "markdown",
      "metadata": {
        "id": "72MJqFCLpxLA",
        "colab_type": "text"
      },
      "source": [
        "Dropping Outlier Rows with Standard Deviation\n",
        "\n",
        "\n"
      ]
    },
    {
      "cell_type": "code",
      "metadata": {
        "id": "C4mi-eVYp-fa",
        "colab_type": "code",
        "colab": {}
      },
      "source": [
        "#Dropping the outlier rows with standard deviation\n",
        "factor = 3\n",
        "upper_lim = data['column'].mean () + data['column'].std () * factor\n",
        "lower_lim = data['column'].mean () - data['column'].std () * factor\n",
        "\n",
        "data = data[(data['column'] < upper_lim) & (data['column'] > lower_lim)]"
      ],
      "execution_count": 0,
      "outputs": []
    },
    {
      "cell_type": "markdown",
      "metadata": {
        "id": "cGXOLUqOp_Ea",
        "colab_type": "text"
      },
      "source": [
        "Outlier Detection with Percentiles"
      ]
    },
    {
      "cell_type": "code",
      "metadata": {
        "id": "KcU2zmHkpxWs",
        "colab_type": "code",
        "colab": {}
      },
      "source": [
        "#Dropping the outlier rows with Percentiles\n",
        "upper_lim = data['column'].quantile(.95)\n",
        "lower_lim = data['column'].quantile(.05)\n",
        "\n",
        "data = data[(data['column'] < upper_lim) & (data['column'] > lower_lim)]"
      ],
      "execution_count": 0,
      "outputs": []
    },
    {
      "cell_type": "markdown",
      "metadata": {
        "id": "dg9oYcqsqGeQ",
        "colab_type": "text"
      },
      "source": [
        "An Outlier Dilemma: Drop or Cap"
      ]
    },
    {
      "cell_type": "code",
      "metadata": {
        "id": "e9BAjhigqHEi",
        "colab_type": "code",
        "colab": {}
      },
      "source": [
        "#Capping the outlier rows with Percentiles\n",
        "upper_lim = data['column'].quantile(.95)\n",
        "lower_lim = data['column'].quantile(.05)\n",
        "data.loc[(df[column] > upper_lim),column] = upper_lim\n",
        "data.loc[(df[column] < lower_lim),column] = lower_lim"
      ],
      "execution_count": 0,
      "outputs": []
    },
    {
      "cell_type": "markdown",
      "metadata": {
        "id": "vyTbLsbNxhEe",
        "colab_type": "text"
      },
      "source": [
        "# **Binning**"
      ]
    },
    {
      "cell_type": "code",
      "metadata": {
        "id": "DzNcscP8zMrQ",
        "colab_type": "code",
        "colab": {}
      },
      "source": [
        "insert image"
      ],
      "execution_count": 0,
      "outputs": []
    },
    {
      "cell_type": "code",
      "metadata": {
        "id": "Z031fi5tzPF7",
        "colab_type": "code",
        "colab": {}
      },
      "source": [
        ""
      ],
      "execution_count": 0,
      "outputs": []
    },
    {
      "cell_type": "markdown",
      "metadata": {
        "id": "YvSjeWTqzVwh",
        "colab_type": "text"
      },
      "source": [
        "Binning can be applied on both categorical and numerical data:\n",
        "Numerical Binning Example\n",
        "Value      Bin       \n",
        "0-30   ->  Low       \n",
        "31-70  ->  Mid       \n",
        "71-100 ->  High\n",
        "\n",
        "Categorical Binning Example\n",
        "Value      Bin       \n",
        "Spain  ->  Europe      \n",
        "Italy  ->  Europe       \n",
        "Chile  ->  South America\n",
        "Brazil ->  South America"
      ]
    },
    {
      "cell_type": "markdown",
      "metadata": {
        "id": "3VxHeug8zfcL",
        "colab_type": "text"
      },
      "source": [
        "The main motivation of binning is to make the model more robust and prevent overfitting, however, it has a cost to the performance.  Every time you bin something, you sacrifice information **and make your data more regularized.**\n",
        "\n",
        "The trade-off between performance and overfitting is the key point of the binning process. In my opinion, for numerical columns, except for some obvious overfitting cases, binning might be redundant for some kind of algorithms, due to its effect on model performance.\n",
        "However, for categorical columns, the labels with low frequencies probably affect the robustness of statistical models negatively. Thus, assigning a general category to these less frequent values helps to keep the robustness of the model. For example, if your data size is 100,000 rows, it might be a good option to unite the labels with a count less than 100 to a new category like “Other”."
      ]
    },
    {
      "cell_type": "code",
      "metadata": {
        "id": "s-x7EPoTz5nF",
        "colab_type": "code",
        "colab": {}
      },
      "source": [
        "binning example"
      ],
      "execution_count": 0,
      "outputs": []
    },
    {
      "cell_type": "markdown",
      "metadata": {
        "id": "VD6Ch-xV0Gx8",
        "colab_type": "text"
      },
      "source": [
        "Log Transform"
      ]
    },
    {
      "cell_type": "markdown",
      "metadata": {
        "id": "2cUvALCb0T1s",
        "colab_type": "text"
      },
      "source": [
        "Logarithm transformation (or log transform) is one of the most commonly used mathematical transformations in feature engineering. What are the benefits of log transform:\n",
        "It helps to handle skewed data and after transformation, the distribution becomes more approximate to normal.\n",
        "In most of the cases the magnitude order of the data changes within the range of the data. For instance, the difference between ages 15 and 20 is not equal to the ages 65 and 70. In terms of years, yes, they are identical, but for all other aspects, 5 years of difference in young ages mean a higher magnitude difference. This type of data comes from a multiplicative process and log transform normalizes the magnitude differences like that.\n",
        "It also decreases the effect of the outliers, due to the normalization of magnitude differences and the model become more robust.\n",
        "A critical note: The data you apply log transform must have only positive values, otherwise you receive an error. Also, you can add 1 to your data before transform it. Thus, you ensure the output of the transformation to be positive.\n",
        "Log(x+1)"
      ]
    },
    {
      "cell_type": "markdown",
      "metadata": {
        "id": "5sZuX78s0Z46",
        "colab_type": "text"
      },
      "source": [
        "#Log Transform Example\n",
        "data = pd.DataFrame({'value':[2,45, -23, 85, 28, 2, 35, -12]})\n",
        "data['log+1'] = (data['value']+1).transform(np.log)\n",
        "#Negative Values Handling\n",
        "#Note that the values are different\n",
        "data['log'] = (data['value']-data['value'].min()+1) .transform(np.log)\n",
        "   value  log(x+1)  log(x-min(x)+1)\n",
        "0      2   1.09861          3.25810\n",
        "1     45   3.82864          4.23411\n",
        "2    -23       nan          0.00000\n",
        "3     85   4.45435          4.69135\n",
        "4     28   3.36730          3.95124\n",
        "5      2   1.09861          3.25810\n",
        "6     35   3.58352          4.07754\n",
        "7    -12       nan          2.48491"
      ]
    },
    {
      "cell_type": "markdown",
      "metadata": {
        "id": "D6VxT_3I0hkO",
        "colab_type": "text"
      },
      "source": [
        "One-hot encoding\n",
        "One-hot encoding is one of the most common encoding methods in machine learning. This method spreads the values in a column to multiple flag columns and assigns 0 or 1 to them. These binary values express the relationship between grouped and encoded column.\n",
        "This method changes your categorical data, which is challenging to understand for algorithms, to a numerical format and enables you to group your categorical data without losing any information. "
      ]
    },
    {
      "cell_type": "markdown",
      "metadata": {
        "id": "q0A5UuWT0pqd",
        "colab_type": "text"
      },
      "source": [
        "Grouping Operations\n",
        "In most machine learning algorithms, every instance is represented by a row in the training dataset, where every column show a different feature of the instance. This kind of data called “Tidy”.\n",
        "Tidy datasets are easy to manipulate, model and visualise, and have a specific structure: each variable is a column, each observation is a row, and each type of observational unit is a table.\n",
        "— Hadley Wickham\n",
        "Datasets such as transactions rarely fit the definition of tidy data above, because of the multiple rows of an instance. In such a case, we group the data by the instances and then every instance is represented by only one row.\n",
        "The key point of group by operations is to decide the aggregation functions of the features. For numerical features, average and sum functions are usually convenient options, whereas for categorical features it more complicated."
      ]
    },
    {
      "cell_type": "markdown",
      "metadata": {
        "id": "xCfV7Szq0vZy",
        "colab_type": "text"
      },
      "source": [
        "Categorical Column Grouping\n",
        "I suggest three different ways for aggregating categorical columns:\n",
        "The first option is to select the label with the highest frequency. In other words, this is the max operation for categorical columns, but ordinary max functions generally do not return this value, you need to use a lambda function for this purpose.\n",
        "data.groupby('id').agg(lambda x: x.value_counts().index[0])\n",
        "Second option is to make a pivot table. This approach resembles the encoding method in the preceding step with a difference. Instead of binary notation, it can be defined as aggregated functions for the values between grouped and encoded columns. This would be a good option if you aim to go beyond binary flag columns and merge multiple features into aggregated features, which are more informative.\n",
        "\n",
        "Pivot table example: Sum of Visit Days grouped by Users\n",
        "#Pivot table Pandas Example\n",
        "data.pivot_table(index='column_to_group', columns='column_to_encode', values='aggregation_column', aggfunc=np.sum, fill_value = 0)\n",
        "Last categorical grouping option is to apply a group by function after applying one-hot encoding. This method preserves all the data -in the first option you lose some-, and in addition, you transform the encoded column from categorical to numerical in the meantime. You can check the next section for the explanation of numerical column grouping.\n",
        "Numerical Column Grouping\n",
        "Numerical columns are grouped using sum and mean functions in most of the cases. Both can be preferable according to the meaning of the feature. For example, if you want to obtain ratio columns, you can use the average of binary columns. In the same example, sum function can be used to obtain the total count either.\n",
        "#sum_cols: List of columns to sum\n",
        "#mean_cols: List of columns to average\n",
        "grouped = data.groupby('column_to_group')\n",
        "\n",
        "sums = grouped[sum_cols].sum().add_suffix('_sum')\n",
        "avgs = grouped[mean_cols].mean().add_suffix('_avg')\n",
        "\n",
        "new_df = pd.concat([sums, avgs], axis=1)"
      ]
    },
    {
      "cell_type": "markdown",
      "metadata": {
        "id": "TRPilN6K00XT",
        "colab_type": "text"
      },
      "source": [
        "Feature Split"
      ]
    },
    {
      "cell_type": "markdown",
      "metadata": {
        "id": "Cv4YQeoY05Mo",
        "colab_type": "text"
      },
      "source": [
        "Splitting features is a good way to make them useful in terms of machine learning. Most of the time the dataset contains string columns that violates tidy data principles. By extracting the utilizable parts of a column into new features:\n",
        "We enable machine learning algorithms to comprehend them.\n",
        "Make possible to bin and group them.\n",
        "Improve model performance by uncovering potential information.\n",
        "Split function is a good option, however, there is no one way of splitting features. It depends on the characteristics of the column, how to split it. Let’s introduce it with two examples. First, a simple split function for an ordinary name column:\n",
        "data.name\n",
        "0  Luther N. Gonzalez\n",
        "1    Charles M. Young\n",
        "2        Terry Lawson\n",
        "3       Kristen White\n",
        "4      Thomas Logsdon\n",
        "#Extracting first names\n",
        "data.name.str.split(\" \").map(lambda x: x[0])\n",
        "0     Luther\n",
        "1    Charles\n",
        "2      Terry\n",
        "3    Kristen\n",
        "4     Thomas\n",
        "#Extracting last names\n",
        "data.name.str.split(\" \").map(lambda x: x[-1])\n",
        "0    Gonzalez\n",
        "1       Young\n",
        "2      Lawson\n",
        "3       White\n",
        "4     Logsdon\n",
        "The example above handles the names longer than two words by taking only the first and last elements and it makes the function robust for corner cases, which should be regarded when manipulating strings like that.\n",
        "Another case for split function is to extract a string part between two chars. The following example shows an implementation of this case by using two split functions in a row.\n",
        "#String extraction example\n",
        "data.title.head()\n",
        "0                      Toy Story (1995)\n",
        "1                        Jumanji (1995)\n",
        "2               Grumpier Old Men (1995)\n",
        "3              Waiting to Exhale (1995)\n",
        "4    Father of the Bride Part II (1995)\n",
        "data.title.str.split(\"(\", n=1, expand=True)[1].str.split(\")\", n=1, expand=True)[0]\n",
        "0    1995\n",
        "1    1995\n",
        "2    1995\n",
        "3    1995\n",
        "4    1995"
      ]
    },
    {
      "cell_type": "markdown",
      "metadata": {
        "id": "VA8p523_08ka",
        "colab_type": "text"
      },
      "source": [
        "Scaling"
      ]
    },
    {
      "cell_type": "markdown",
      "metadata": {
        "id": "RCWnmjWv09il",
        "colab_type": "text"
      },
      "source": [
        "In most cases, the numerical features of the dataset do not have a certain range and they differ from each other. In real life, it is nonsense to expect age and income columns to have the same range. But from the machine learning point of view, how these two columns can be compared?\n",
        "Scaling solves this problem. The continuous features become identical in terms of the range, after a scaling process. This process is not mandatory for many algorithms, but it might be still nice to apply. However, the algorithms based on distance calculations such as k-NN or k-Means need to have scaled continuous features as model input.\n",
        "Basically, there are two common ways of scaling:\n",
        "Normalization\n",
        "\n",
        "Normalization (or min-max normalization) scale all values in a fixed range between 0 and 1. This transformation does not change the distribution of the feature and due to the decreased standard deviations, the effects of the outliers increases. Therefore, before normalization, it is recommended to handle the outliers.\n",
        "data = pd.DataFrame({'value':[2,45, -23, 85, 28, 2, 35, -12]})\n",
        "\n",
        "data['normalized'] = (data['value'] - data['value'].min()) / (data['value'].max() - data['value'].min())\n",
        "   value  normalized\n",
        "0      2        0.23\n",
        "1     45        0.63\n",
        "2    -23        0.00\n",
        "3     85        1.00\n",
        "4     28        0.47\n",
        "5      2        0.23\n",
        "6     35        0.54\n",
        "7    -12        0.10"
      ]
    },
    {
      "cell_type": "markdown",
      "metadata": {
        "id": "WJhvMQR11JgY",
        "colab_type": "text"
      },
      "source": [
        "Standardization\n",
        "Standardization (or z-score normalization) scales the values while taking into account standard deviation. If the standard deviation of features is different, their range also would differ from each other. This reduces the effect of the outliers in the features.\n",
        "In the following formula of standardization, the mean is shown as μ and the standard deviation is shown as σ.\n",
        "\n",
        "data = pd.DataFrame({'value':[2,45, -23, 85, 28, 2, 35, -12]})\n",
        "\n",
        "data['standardized'] = (data['value'] - data['value'].mean()) / data['value'].std()\n",
        "   value  standardized\n",
        "0      2         -0.52\n",
        "1     45          0.70\n",
        "2    -23         -1.23\n",
        "3     85          1.84\n",
        "4     28          0.22\n",
        "5      2         -0.52\n",
        "6     35          0.42\n",
        "7    -12         -0.92"
      ]
    },
    {
      "cell_type": "markdown",
      "metadata": {
        "id": "GV3sq4cm1P3-",
        "colab_type": "text"
      },
      "source": [
        "Extracting Date\n",
        "Though date columns usually provide valuable information about the model target, they are neglected as an input or used nonsensically for the machine learning algorithms. It might be the reason for this, that dates can be present in numerous formats, which make it hard to understand by algorithms, even they are simplified to a format like \"01–01–2017\".\n",
        "Building an ordinal relationship between the values is very challenging for a machine learning algorithm if you leave the date columns without manipulation. Here, I suggest three types of preprocessing for dates:\n",
        "Extracting the parts of the date into different columns: Year, month, day, etc.\n",
        "Extracting the time period between the current date and columns in terms of years, months, days, etc.\n",
        "Extracting some specific features from the date: Name of the weekday, Weekend or not, holiday or not, etc.\n",
        "If you transform the date column into the extracted columns like above, the information of them become disclosed and machine learning algorithms can easily understand them.\n",
        "from datetime import date\n",
        "\n",
        "data = pd.DataFrame({'date':\n",
        "['01-01-2017',\n",
        "'04-12-2008',\n",
        "'23-06-1988',\n",
        "'25-08-1999',\n",
        "'20-02-1993',\n",
        "]})\n",
        "\n",
        "#Transform string to date\n",
        "data['date'] = pd.to_datetime(data.date, format=\"%d-%m-%Y\")\n",
        "\n",
        "#Extracting Year\n",
        "data['year'] = data['date'].dt.year\n",
        "\n",
        "#Extracting Month\n",
        "data['month'] = data['date'].dt.month\n",
        "\n",
        "#Extracting passed years since the date\n",
        "data['passed_years'] = date.today().year - data['date'].dt.year\n",
        "\n",
        "#Extracting passed months since the date\n",
        "data['passed_months'] = (date.today().year - data['date'].dt.year) * 12 + date.today().month - data['date'].dt.month\n",
        "\n",
        "#Extracting the weekday name of the date\n",
        "data['day_name'] = data['date'].dt.day_name()\n",
        "        date  year  month  passed_years  passed_months   day_name\n",
        "0 2017-01-01  2017      1             2             26     Sunday\n",
        "1 2008-12-04  2008     12            11            123   Thursday\n",
        "2 1988-06-23  1988      6            31            369   Thursday\n",
        "3 1999-08-25  1999      8            20            235  Wednesday\n",
        "4 1993-02-20  1993      2            26            313   Saturday"
      ]
    }
  ]
}